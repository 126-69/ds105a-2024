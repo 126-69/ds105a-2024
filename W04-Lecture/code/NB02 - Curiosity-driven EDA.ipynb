{
 "cells": [
  {
   "cell_type": "markdown",
   "metadata": {},
   "source": [
    "<font style='font-size:1.5em'>**🧑‍🏫 Week 04 Lecture – (NB02) Your questions, my pandas answers** </font>\n",
    "\n",
    "<font style='font-size:1.2em'>LSE [DS105A](https://lse-dsi.github.io/DS105/autumn-term/index.html){style=\"color:#e26a4f;font-weight:bold\"} – Data for Data Science (2024/25) </font>\n",
    "\n",
    "\n",
    "\n",
    "<div style=\"color: #333333; background-color:rgba(226, 106, 79, 0.075); border-radius: 10px; box-shadow: 0 4px 8px rgba(0, 0, 0, 0.1); padding: 20px 0 20px 10px; margin: 10px 0 10px 0; flex: 1 1 calc(45% - 20px);min-width: 250px;max-width: 350px;align-items:top;min-height: calc(45% - 20px); box-sizing: border-box;font-size:0.9em;\">\n",
    "\n",
    "🗓️ **DATE:** 24 October 2024\n",
    "\n",
    "⌚ **TIME:** 16.00-18.00\n",
    "\n",
    "📍 **LOCATION:** CLM.5.02\n",
    "</div>\n",
    "\n",
    "\n",
    "**AUTHORS:**  Dr. [Jon Cardoso-Silva](https://jonjoncardoso.github.io){style=\"color:#e26a4f;font-weight:bold\"}\n",
    "\n",
    "**DEPARTMENT:** [LSE Data Science Institute](https://lse.ac.uk/dsi){style=\"color:#e26a4f;font-weight:bold\"}\n",
    "\n",
    "**OBJECTIVE**: Make use of the building blocks of the pandas library to answer questions from the audience.\n",
    "\n",
    "**REFERENCES:**\n",
    "\n",
    "- 🌐 [10 minutes to Pandas](https://pandas.pydata.org/pandas-docs/stable/user_guide/10min.html){style=\"color:#e26a4f;font-weight:bold\"}\n",
    "- 📖 [Official pandas documentation](https://pandas.pydata.org/docs/reference/index.html){style=\"color:#e26a4f;font-weight:bold\"}\n",
    "- 📗 [DataFrame page](https://pandas.pydata.org/docs/reference/frame.html){style=\"color:#e26a4f;font-weight:bold\"} in the official docs\n",
    "- 📘 [Series page](https://pandas.pydata.org/docs/reference/series.html){style=\"color:#e26a4f;font-weight:bold\"} in the official docs\n",
    "\n",
    "---"
   ]
  },
  {
   "cell_type": "code",
   "execution_count": 1,
   "metadata": {},
   "outputs": [],
   "source": [
    "import os\n",
    "\n",
    "import numpy as np\n",
    "import pandas as pd"
   ]
  },
  {
   "cell_type": "markdown",
   "metadata": {},
   "source": [
    "# 1. Reading the Data\n",
    "\n",
    "Expand the text below to understand how I collected the data and did a preliminary pre-processing of it for this lecture.\n",
    "\n",
    "<details style=\"border: 1px solid #aaa;border-radius: 4px;padding: .5em .5em 0;width:50%;font-size:0.9em;margin-bottom:1em\">\n",
    "    <summary style=\"font-weight: bold;margin: -.5em -.5em 0;padding: .5em;\">Data Collection</summary>\n",
    "\n",
    "I wrote a script to:\n",
    "\n",
    "1. Visit the Waitrose's ['Browse by Category'](https://www.waitrose.com/ecom/shop/browse/groceries) page\n",
    "2. Click on each unique category\n",
    "3. Scroll down to the bottom of the page and click 'Load More' until reaching the end of the list\n",
    "4. Collect basic information about each one of the products (link, name, quantity, size, price)\n",
    "5. Save collected products of each category to an individual CSV file\n",
    "\n",
    "I checked [Waitrose's bots.txt file](https://www.waitrose.com/robots.txt) to confirm I had their permission for this.\n",
    "\n",
    "</details>\n",
    "\n",
    "<details style=\"border: 1px solid #aaa;border-radius: 4px;padding: .5em .5em 0;width:50%;font-size:0.9em\">\n",
    "    <summary style=\"font-weight: bold;margin: -.5em -.5em 0;padding: .5em;\">Preliminary Data Pre-processing</summary>\n",
    "\n",
    "The data was already kind of clean, but we still need to pre-process it for analysis. \n",
    "\n",
    "I've made the following changes to the data collected as described above:\n",
    "\n",
    "- I combined all the CSV files into a single larger CSV\n",
    "- I transformed the `item-price` column from a string to a float (removing the currency symbol and other characters)\n",
    "- I remove the ranges from the `product-size` column\n",
    "\n",
    "<div style=\"font-size:0.85em;line-height:1.25em;display:block;background-color:#5d9ebc22;padding:0.5em;border-radius:0.5em;margin:1em 0 1em 0;padding:0.75em 0.5em 0.05em 0.75em;width:50%\">\n",
    "\n",
    "I only did the above to make our first lecture about pandas a bit more interesting. I want to show you the cool things you can do with pandas once your data is clean.\n",
    "\n",
    "🤫 However, since the whole point of this course is to learn how to manipulate (clean & pre-process) data I will give you the unclean data so you can exercise your Python function skills!\n",
    "\n",
    "</div>\n",
    "\n",
    "</details>\n"
   ]
  },
  {
   "cell_type": "code",
   "execution_count": 2,
   "metadata": {},
   "outputs": [
    {
     "name": "stdout",
     "output_type": "stream",
     "text": [
      "<class 'pandas.core.frame.DataFrame'>\n",
      "RangeIndex: 25418 entries, 0 to 25417\n",
      "Data columns (total 13 columns):\n",
      " #   Column                 Non-Null Count  Dtype  \n",
      "---  ------                 --------------  -----  \n",
      " 0   data-product-id        25418 non-null  int64  \n",
      " 1   data-product-name      25418 non-null  object \n",
      " 2   data-product-type      25418 non-null  object \n",
      " 3   data-product-on-offer  25418 non-null  bool   \n",
      " 4   data-product-index     25408 non-null  float64\n",
      " 5   image-url              25418 non-null  object \n",
      " 6   product-page           25418 non-null  object \n",
      " 7   product-name           25407 non-null  object \n",
      " 8   product-size           25363 non-null  object \n",
      " 9   item-price             25407 non-null  float64\n",
      " 10  price-per-unit         24976 non-null  object \n",
      " 11  offer-description      7201 non-null   object \n",
      " 12  category               25418 non-null  object \n",
      "dtypes: bool(1), float64(2), int64(1), object(9)\n",
      "memory usage: 2.4+ MB\n"
     ]
    }
   ],
   "source": [
    "df = pd.read_csv('../data/waitrose-products-combined-2024-07.csv')\n",
    "df.info()"
   ]
  },
  {
   "cell_type": "markdown",
   "metadata": {},
   "source": [
    "# 2. Selected Questions\n",
    "\n",
    "I will gather your questions and answer them using pandas. \n",
    "\n",
    "For the sake of brevity, I might prioritise questions that does not require massive data processing."
   ]
  },
  {
   "cell_type": "code",
   "execution_count": null,
   "metadata": {},
   "outputs": [],
   "source": []
  }
 ],
 "metadata": {
  "kernelspec": {
   "display_name": "base",
   "language": "python",
   "name": "python3"
  },
  "language_info": {
   "codemirror_mode": {
    "name": "ipython",
    "version": 3
   },
   "file_extension": ".py",
   "mimetype": "text/x-python",
   "name": "python",
   "nbconvert_exporter": "python",
   "pygments_lexer": "ipython3",
   "version": "3.10.15"
  }
 },
 "nbformat": 4,
 "nbformat_minor": 2
}
